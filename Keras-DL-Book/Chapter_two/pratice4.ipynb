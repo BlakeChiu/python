{
 "cells": [
  {
   "cell_type": "code",
   "execution_count": 1,
   "metadata": {},
   "outputs": [],
   "source": [
    "#創一個簡單的密集層類別\n",
    "import tensorflow as tf\n",
    "\n",
    "class NaiveDense:\n",
    "    def __init__(self,input_size,output_size,activation):\n",
    "        self.activation=activation\n",
    "        \n",
    "        w_shape=(input_size,output_size)\n",
    "        w_initial_value=tf.random.uniform(w_shape,minval=0,\n",
    "                                          maxval=1e-1) #將矩陣元素的初始值設定為亂數(介於0到0.1)\n",
    "        self.W=tf.Variable(w_initial_value) #建立一個命名為W的Variable物件\n",
    "        \n",
    "        b_shape=(output_size,)\n",
    "        b_initial_value=tf.zeros(b_shape) #將向量元素初始值設為0\n",
    "        self.b=tf.Variable(b_initial_value) #建立一個命名為b的Variable物件\n",
    "\n",
    "    def __call__(self,inputs): #建立正向傳播的方法(當把物件當成函式來呼叫時，就會自動呼叫此method)\n",
    "        return self.activation(tf.matmul(inputs,self.W)+self.b)\n",
    "\n",
    "    @property #將weight設為只能讀取，不能修改的屬性\n",
    "    def weights(self):\n",
    "        return [self.W,self.b]\n"
   ]
  },
  {
   "cell_type": "code",
   "execution_count": 2,
   "metadata": {},
   "outputs": [],
   "source": [
    "#創一個簡單的序列式類別\n",
    "class NaiveSequential:\n",
    "    def __init__(self,layers):\n",
    "        self.layers=layers\n",
    "\n",
    "    def __call__(self,inputs):\n",
    "        x=inputs\n",
    "        for layer in self.layers: #將輸入的資料沿著各神經層傳遞\n",
    "            x=layer(x)\n",
    "        return x\n",
    "\n",
    "    @property\n",
    "    def weights(self):\n",
    "        weights=[] #建立一個weights串列\n",
    "        for layer in self.layers:\n",
    "            weights += layer.weights #將各層的權重存到weights\n",
    "        return weights"
   ]
  },
  {
   "cell_type": "code",
   "execution_count": 3,
   "metadata": {},
   "outputs": [],
   "source": [
    "model=NaiveSequential([\n",
    "    NaiveDense(input_size=28*28,output_size=512,activation=tf.nn.relu),\n",
    "    NaiveDense(input_size=512,output_size=10,activation=tf.nn.softmax)\n",
    "])"
   ]
  },
  {
   "cell_type": "code",
   "execution_count": 4,
   "metadata": {},
   "outputs": [],
   "source": [
    "import math\n",
    "\n",
    "class BatchGenerator:\n",
    "    def __init__(self,images,labels,batch_size=128):\n",
    "        assert len(images == len(labels))\n",
    "        self.index=0\n",
    "        self.images=images\n",
    "        self.labels=labels\n",
    "        self.batch_size=batch_size\n",
    "        self.num_batches=math.ceil(len(images)/batch_size) #計算批次的個數，若結果為小數，則無條件進位\n",
    "\n",
    "    def next(self): #讀取下一批次的輸入影像和對應標籤\n",
    "        images=self.images[self.index : self.index + self.batch_size]\n",
    "        labels=self.labels[self.index : self.index + self.batch_size]\n",
    "        self.index += self.batch_size\n",
    "        return images,labels"
   ]
  },
  {
   "cell_type": "code",
   "execution_count": 5,
   "metadata": {},
   "outputs": [],
   "source": [
    "from keras import optimizers\n",
    "\n",
    "optimizers=optimizers.SGD(learning_rate=1e-3) #使用SGD(隨機梯度)優化器\n",
    "\n",
    "def update_weights(gradients,weights): #更新權重函式\n",
    "    optimizers.apply_gradients(zip(gradients,weights))"
   ]
  },
  {
   "cell_type": "code",
   "execution_count": 6,
   "metadata": {},
   "outputs": [],
   "source": [
    "def one_training_step(model,images_batch,labels_batch):\n",
    "    with tf.GradientTape() as tape: #紀錄「正向傳播」的計算圖(在GradientTape區塊內計算出模型的預測結果)，並將其指派給tape\n",
    "        predictions=model(images_batch) #將一批次的影像輸入模型\n",
    "        per_sample_losses=tf.keras.losses.sparse_categorical_crossentropy( #計算每筆樣本的損失值\n",
    "            labels_batch,predictions)\n",
    "        average_loss=tf.reduce_mean(per_sample_losses)\n",
    "\n",
    "    gradients=tape.gradient(average_loss,model.weights) #計算損失值相對於各權重參數的梯度\n",
    "    update_weights(gradients,model.weights) #用梯度來更新模型，接著會定義函數\n",
    "    return average_loss"
   ]
  },
  {
   "cell_type": "code",
   "execution_count": 7,
   "metadata": {},
   "outputs": [],
   "source": [
    "def fit(model,images,labels,epochs,batch_size=128): #定義一個fit()訓練迴圈\n",
    "    for epoch_counter in range(epochs): #一共會執行epochs次的訓練週期\n",
    "        print(f\"Epoch {epoch_counter}\")\n",
    "        batch_generator=BatchGenerator(images,labels) #建立產生小批次訓練資料的產生器\n",
    "        for batch_counter in range(batch_generator.num_batches):\n",
    "            images_batch,labels_batch=batch_generator.next() #取出最小訓練資料\n",
    "            loss=one_training_step(model,images_batch,labels_batch)\n",
    "            if batch_counter % 100 ==0:\n",
    "                print(f\"loss at batch {batch_counter}: {loss:.2f}\")"
   ]
  },
  {
   "cell_type": "code",
   "execution_count": 8,
   "metadata": {},
   "outputs": [
    {
     "name": "stdout",
     "output_type": "stream",
     "text": [
      "Epoch 0\n",
      "loss at batch 0: 7.04\n",
      "loss at batch 100: 2.25\n",
      "loss at batch 200: 2.22\n",
      "loss at batch 300: 2.12\n",
      "loss at batch 400: 2.25\n",
      "Epoch 1\n",
      "loss at batch 0: 1.93\n",
      "loss at batch 100: 1.89\n",
      "loss at batch 200: 1.83\n",
      "loss at batch 300: 1.74\n",
      "loss at batch 400: 1.86\n",
      "Epoch 2\n",
      "loss at batch 0: 1.60\n",
      "loss at batch 100: 1.58\n",
      "loss at batch 200: 1.50\n",
      "loss at batch 300: 1.44\n",
      "loss at batch 400: 1.53\n",
      "Epoch 3\n",
      "loss at batch 0: 1.33\n",
      "loss at batch 100: 1.34\n",
      "loss at batch 200: 1.24\n",
      "loss at batch 300: 1.22\n",
      "loss at batch 400: 1.29\n",
      "Epoch 4\n",
      "loss at batch 0: 1.13\n",
      "loss at batch 100: 1.16\n",
      "loss at batch 200: 1.04\n",
      "loss at batch 300: 1.06\n",
      "loss at batch 400: 1.12\n",
      "Epoch 5\n",
      "loss at batch 0: 0.99\n",
      "loss at batch 100: 1.02\n",
      "loss at batch 200: 0.90\n",
      "loss at batch 300: 0.94\n",
      "loss at batch 400: 1.00\n",
      "Epoch 6\n",
      "loss at batch 0: 0.88\n",
      "loss at batch 100: 0.91\n",
      "loss at batch 200: 0.80\n",
      "loss at batch 300: 0.84\n",
      "loss at batch 400: 0.91\n",
      "Epoch 7\n",
      "loss at batch 0: 0.79\n",
      "loss at batch 100: 0.83\n",
      "loss at batch 200: 0.72\n",
      "loss at batch 300: 0.77\n",
      "loss at batch 400: 0.84\n",
      "Epoch 8\n",
      "loss at batch 0: 0.73\n",
      "loss at batch 100: 0.76\n",
      "loss at batch 200: 0.66\n",
      "loss at batch 300: 0.72\n",
      "loss at batch 400: 0.79\n",
      "Epoch 9\n",
      "loss at batch 0: 0.68\n",
      "loss at batch 100: 0.71\n",
      "loss at batch 200: 0.61\n",
      "loss at batch 300: 0.67\n",
      "loss at batch 400: 0.74\n"
     ]
    }
   ],
   "source": [
    "from keras.datasets import mnist\n",
    "(train_images, train_labels), (test_images, test_labels) = mnist.load_data()\n",
    "\n",
    "train_images = train_images.reshape((60000, 28 * 28))\n",
    "train_images = train_images.astype(\"float32\") / 255\n",
    "test_images = test_images.reshape((10000, 28 * 28))\n",
    "test_images = test_images.astype(\"float32\") / 255\n",
    "\n",
    "fit(model, train_images, train_labels, epochs=10, batch_size=128)"
   ]
  },
  {
   "cell_type": "code",
   "execution_count": 9,
   "metadata": {},
   "outputs": [
    {
     "name": "stdout",
     "output_type": "stream",
     "text": [
      "accuracy: 0.82\n"
     ]
    }
   ],
   "source": [
    "import numpy as np\n",
    "\n",
    "predictions=model(test_images)\n",
    "predictions=predictions.numpy()\n",
    "\n",
    "predicted_labels=np.argmax(predictions,axis=1)\n",
    "matches=predicted_labels == test_labels\n",
    "print(f\"accuracy: {matches.mean():.2f}\")"
   ]
  }
 ],
 "metadata": {
  "kernelspec": {
   "display_name": "base",
   "language": "python",
   "name": "python3"
  },
  "language_info": {
   "codemirror_mode": {
    "name": "ipython",
    "version": 3
   },
   "file_extension": ".py",
   "mimetype": "text/x-python",
   "name": "python",
   "nbconvert_exporter": "python",
   "pygments_lexer": "ipython3",
   "version": "3.9.12 (main, Apr  4 2022, 05:22:27) [MSC v.1916 64 bit (AMD64)]"
  },
  "orig_nbformat": 4,
  "vscode": {
   "interpreter": {
    "hash": "cf2ce59cd14ccf06ee242bff7c016a1e75b61f8bcefb1a770f775dab1f551b87"
   }
  }
 },
 "nbformat": 4,
 "nbformat_minor": 2
}
