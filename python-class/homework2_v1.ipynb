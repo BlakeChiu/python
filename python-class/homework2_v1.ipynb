{
  "cells": [
    {
      "cell_type": "markdown",
      "metadata": {
        "id": "4Zl8SeE_ijLQ"
      },
      "source": [
        "## MNIST部分"
      ]
    },
    {
      "cell_type": "code",
      "execution_count": null,
      "metadata": {
        "colab": {
          "base_uri": "https://localhost:8080/"
        },
        "id": "yAlR08ZmijLU",
        "outputId": "e722f272-6d72-430c-965d-27fa311bd76f"
      },
      "outputs": [
        {
          "output_type": "execute_result",
          "data": {
            "text/plain": [
              "dict_keys(['data', 'target', 'frame', 'categories', 'feature_names', 'target_names', 'DESCR', 'details', 'url'])"
            ]
          },
          "metadata": {},
          "execution_count": 1
        }
      ],
      "source": [
        "from sklearn.datasets import fetch_openml\n",
        "mnist = fetch_openml('mnist_784', version=1, as_frame=False)\n",
        "mnist.keys()"
      ]
    },
    {
      "cell_type": "code",
      "execution_count": null,
      "metadata": {
        "colab": {
          "base_uri": "https://localhost:8080/"
        },
        "id": "xjtv_zSsijLW",
        "outputId": "73ee2577-640e-4b96-ef10-122a0fd2451d"
      },
      "outputs": [
        {
          "output_type": "execute_result",
          "data": {
            "text/plain": [
              "(70000, 784)"
            ]
          },
          "metadata": {},
          "execution_count": 2
        }
      ],
      "source": [
        "X, y = mnist[\"data\"], mnist[\"target\"]\n",
        "X.shape"
      ]
    },
    {
      "cell_type": "markdown",
      "metadata": {
        "id": "g_wmiK3jijLW"
      },
      "source": [
        "### Step1:用train_test_split拆分為訓練集50000、驗證10000、測試10000"
      ]
    },
    {
      "cell_type": "code",
      "execution_count": null,
      "metadata": {
        "id": "E8rgVMPlijLX"
      },
      "outputs": [],
      "source": [
        "from sklearn.model_selection import train_test_split"
      ]
    },
    {
      "cell_type": "code",
      "execution_count": null,
      "metadata": {
        "id": "xUeE5w9dijLX"
      },
      "outputs": [],
      "source": [
        "X_train,X_test,y_train,y_test=train_test_split(X,y,train_size=60000,random_state=42)\n",
        "X_train,X_val,y_train,y_val=train_test_split(X_train,y_train,train_size=50000,random_state=42)"
      ]
    },
    {
      "cell_type": "code",
      "execution_count": null,
      "metadata": {
        "colab": {
          "base_uri": "https://localhost:8080/"
        },
        "id": "aswQUwezijLY",
        "outputId": "026d095d-3c97-4609-cfa6-e7ed39063a55"
      },
      "outputs": [
        {
          "output_type": "stream",
          "name": "stdout",
          "text": [
            "(50000, 784)\n",
            "(10000, 784)\n",
            "(10000, 784)\n"
          ]
        }
      ],
      "source": [
        "#查看拆分完的狀態\n",
        "print(X_train.shape)\n",
        "print(X_val.shape)\n",
        "print(X_test.shape)"
      ]
    },
    {
      "cell_type": "markdown",
      "metadata": {
        "id": "-1uSkN0gijLZ"
      },
      "source": [
        "### Step2:訓練一個Random Forest分類器、一個Extra-Trees分類器、一個SVM分類器"
      ]
    },
    {
      "cell_type": "code",
      "execution_count": null,
      "metadata": {
        "id": "GEh_uMcPijLZ"
      },
      "outputs": [],
      "source": [
        "from sklearn.ensemble import RandomForestClassifier,ExtraTreesClassifier,VotingClassifier\n",
        "from sklearn.svm import SVC"
      ]
    },
    {
      "cell_type": "code",
      "execution_count": null,
      "metadata": {
        "id": "9OenbITyijLa"
      },
      "outputs": [],
      "source": [
        "rnd_clf=RandomForestClassifier(n_estimators=100,random_state=42)\n",
        "extra_trees_clf=ExtraTreesClassifier(n_estimators=100,random_state=42)\n",
        "svm_clf=SVC(random_state=42,probability=True)"
      ]
    },
    {
      "cell_type": "markdown",
      "metadata": {
        "id": "bL71CwIdijLa"
      },
      "source": [
        "### Step3:嘗試使用soft voting將三個分類器合成一個整體(該整體優於驗證集上的每個單獨分類器)，並且找到後在測試集嘗試一下，最後討論整體跟個別表現\n"
      ]
    },
    {
      "cell_type": "code",
      "execution_count": null,
      "metadata": {
        "id": "HRRmonG3ijLb"
      },
      "outputs": [],
      "source": [
        "voting_clf=VotingClassifier(\n",
        "    estimators=[('rf',rnd_clf),('et',extra_trees_clf),('svc',svm_clf)],\n",
        "    voting='soft'\n",
        ")"
      ]
    },
    {
      "cell_type": "code",
      "execution_count": null,
      "metadata": {
        "id": "xJhJyiyiijLb"
      },
      "outputs": [],
      "source": [
        "from sklearn.metrics import accuracy_score"
      ]
    },
    {
      "cell_type": "code",
      "execution_count": null,
      "metadata": {
        "colab": {
          "base_uri": "https://localhost:8080/"
        },
        "id": "UP9Km0ouijLb",
        "outputId": "060af2a8-76a6-42aa-ae94-f23bdb506929"
      },
      "outputs": [
        {
          "output_type": "stream",
          "name": "stdout",
          "text": [
            "RandomForestClassifier 0.9692\n",
            "ExtraTreesClassifier 0.9715\n",
            "SVC 0.9788\n"
          ]
        }
      ],
      "source": [
        "for clf in (rnd_clf,extra_trees_clf,svm_clf):\n",
        "    clf.fit(X_train,y_train)\n",
        "    y_pred=clf.predict(X_val)\n",
        "    print(clf.__class__.__name__,accuracy_score(y_val,y_pred))"
      ]
    },
    {
      "cell_type": "code",
      "execution_count": null,
      "metadata": {
        "colab": {
          "base_uri": "https://localhost:8080/"
        },
        "id": "K2E7IUvWijLc",
        "outputId": "885b25df-1b8b-4242-96a4-a6f76de15ccc"
      },
      "outputs": [
        {
          "output_type": "execute_result",
          "data": {
            "text/plain": [
              "VotingClassifier(estimators=[('rf', RandomForestClassifier(random_state=42)),\n",
              "                             ('et', ExtraTreesClassifier(random_state=42)),\n",
              "                             ('svc', SVC(probability=True, random_state=42))],\n",
              "                 voting='soft')"
            ]
          },
          "metadata": {},
          "execution_count": 11
        }
      ],
      "source": [
        "voting_clf.fit(X_val,y_val)"
      ]
    },
    {
      "cell_type": "code",
      "execution_count": null,
      "metadata": {
        "colab": {
          "base_uri": "https://localhost:8080/"
        },
        "id": "8yX5XeDrijLc",
        "outputId": "a41608f6-6f79-4748-e916-368d28acafa0"
      },
      "outputs": [
        {
          "output_type": "execute_result",
          "data": {
            "text/plain": [
              "1.0"
            ]
          },
          "metadata": {},
          "execution_count": 12
        }
      ],
      "source": [
        "voting_clf.score(X_val, y_val)"
      ]
    },
    {
      "cell_type": "code",
      "execution_count": null,
      "metadata": {
        "colab": {
          "base_uri": "https://localhost:8080/"
        },
        "id": "IUyx0zKWijLc",
        "outputId": "d9a3ef03-f7ae-4c02-f88d-8c3065468dec"
      },
      "outputs": [
        {
          "output_type": "stream",
          "name": "stdout",
          "text": [
            "RandomForestClassifier 0.9645\n",
            "ExtraTreesClassifier 0.9691\n",
            "SVC 0.976\n"
          ]
        }
      ],
      "source": [
        "#在測試集上的嘗試\n",
        "for clf in(rnd_clf,extra_trees_clf,svm_clf):\n",
        "    y_pred=clf.predict(X_test)\n",
        "    print(clf.__class__.__name__,accuracy_score(y_test,y_pred))"
      ]
    },
    {
      "cell_type": "code",
      "execution_count": null,
      "metadata": {
        "colab": {
          "base_uri": "https://localhost:8080/"
        },
        "id": "BL3ETc3LijLd",
        "outputId": "322aab20-0fa6-4d4f-8e33-11c8bcb2c12b"
      },
      "outputs": [
        {
          "output_type": "execute_result",
          "data": {
            "text/plain": [
              "VotingClassifier(estimators=[('rf', RandomForestClassifier(random_state=42)),\n",
              "                             ('et', ExtraTreesClassifier(random_state=42)),\n",
              "                             ('svc', SVC(probability=True, random_state=42))],\n",
              "                 voting='soft')"
            ]
          },
          "metadata": {},
          "execution_count": 14
        }
      ],
      "source": [
        "voting_clf.fit(X_test,y_test)"
      ]
    },
    {
      "cell_type": "code",
      "execution_count": null,
      "metadata": {
        "colab": {
          "base_uri": "https://localhost:8080/"
        },
        "id": "F9HIru3NijLd",
        "outputId": "ac43891e-4124-4235-fa0e-432c757ea066"
      },
      "outputs": [
        {
          "output_type": "execute_result",
          "data": {
            "text/plain": [
              "1.0"
            ]
          },
          "metadata": {},
          "execution_count": 15
        }
      ],
      "source": [
        "voting_clf.score(X_test,y_test)"
      ]
    },
    {
      "cell_type": "markdown",
      "metadata": {
        "id": "o_Mlm6lmijLd"
      },
      "source": [
        "## Fashion-MNIST部分"
      ]
    },
    {
      "cell_type": "code",
      "execution_count": null,
      "metadata": {
        "colab": {
          "base_uri": "https://localhost:8080/"
        },
        "id": "AG-Irp27ijLd",
        "outputId": "3f257de3-283e-4e30-ea56-5131ab1f5069"
      },
      "outputs": [
        {
          "output_type": "execute_result",
          "data": {
            "text/plain": [
              "dict_keys(['data', 'target', 'frame', 'categories', 'feature_names', 'target_names', 'DESCR', 'details', 'url'])"
            ]
          },
          "metadata": {},
          "execution_count": 16
        }
      ],
      "source": [
        "fashion_mnist = fetch_openml('Fashion-MNIST', version=1, as_frame=False)\n",
        "fashion_mnist.keys()"
      ]
    },
    {
      "cell_type": "code",
      "execution_count": null,
      "metadata": {
        "colab": {
          "base_uri": "https://localhost:8080/"
        },
        "id": "9aY2pM4eijLe",
        "outputId": "bafc2074-21db-42c3-e1db-023e4b25fe7d"
      },
      "outputs": [
        {
          "output_type": "execute_result",
          "data": {
            "text/plain": [
              "(70000, 784)"
            ]
          },
          "metadata": {},
          "execution_count": 17
        }
      ],
      "source": [
        "X, y = fashion_mnist[\"data\"], fashion_mnist[\"target\"]\n",
        "X.shape"
      ]
    },
    {
      "cell_type": "markdown",
      "metadata": {
        "id": "3knnH_rFijLe"
      },
      "source": [
        "### Step1:用train_test_split拆分為訓練集50000、驗證10000、測試10000"
      ]
    },
    {
      "cell_type": "code",
      "execution_count": null,
      "metadata": {
        "id": "Vj0_1A-RijLe"
      },
      "outputs": [],
      "source": [
        "from sklearn.model_selection import train_test_split"
      ]
    },
    {
      "cell_type": "code",
      "execution_count": null,
      "metadata": {
        "id": "DQUf4vZOijLf"
      },
      "outputs": [],
      "source": [
        "X_train,X_test,y_train,y_test=train_test_split(X,y,train_size=60000,random_state=42)\n",
        "X_train,X_val,y_train,y_val=train_test_split(X_train,y_train,train_size=50000,random_state=42)"
      ]
    },
    {
      "cell_type": "code",
      "execution_count": null,
      "metadata": {
        "colab": {
          "base_uri": "https://localhost:8080/"
        },
        "id": "qQm4rqwEijLf",
        "outputId": "98d3f7da-28b4-406f-c4ef-ae141c039853"
      },
      "outputs": [
        {
          "output_type": "stream",
          "name": "stdout",
          "text": [
            "(50000, 784)\n",
            "(10000, 784)\n",
            "(10000, 784)\n"
          ]
        }
      ],
      "source": [
        "#查看拆分完的狀態\n",
        "print(X_train.shape)\n",
        "print(X_val.shape)\n",
        "print(X_test.shape)"
      ]
    },
    {
      "cell_type": "markdown",
      "metadata": {
        "id": "_uklOr9FijLf"
      },
      "source": [
        "### Step2:訓練一個Random Forest分類器、一個Extra-Trees分類器、一個SVM分類器"
      ]
    },
    {
      "cell_type": "code",
      "execution_count": null,
      "metadata": {
        "id": "gpPulyrKijLf"
      },
      "outputs": [],
      "source": [
        "from sklearn.ensemble import RandomForestClassifier,ExtraTreesClassifier,VotingClassifier\n",
        "from sklearn.svm import SVC"
      ]
    },
    {
      "cell_type": "code",
      "execution_count": null,
      "metadata": {
        "id": "FwtsITGJijLf"
      },
      "outputs": [],
      "source": [
        "rnd_clf=RandomForestClassifier(n_estimators=100,random_state=42)\n",
        "extra_trees_clf=ExtraTreesClassifier(n_estimators=100,random_state=42)\n",
        "svm_clf=SVC(random_state=42,probability=True)"
      ]
    },
    {
      "cell_type": "markdown",
      "metadata": {
        "id": "HmbvdYsTijLf"
      },
      "source": [
        "### Step3:嘗試使用soft voting將三個分類器合成一個整體(該整體優於驗證集上的每個單獨分類器)，並且找到後在測試集嘗試一下，最後討論整體跟個別表現"
      ]
    },
    {
      "cell_type": "code",
      "execution_count": null,
      "metadata": {
        "id": "d9dDmKSNijLg"
      },
      "outputs": [],
      "source": [
        "voting_clf=VotingClassifier(\n",
        "    estimators=[('rf',rnd_clf),('et',extra_trees_clf),('svc',svm_clf)],\n",
        "    voting='soft'\n",
        ")"
      ]
    },
    {
      "cell_type": "code",
      "execution_count": null,
      "metadata": {
        "id": "jruR1d47ijLg"
      },
      "outputs": [],
      "source": [
        "from sklearn.metrics import accuracy_score"
      ]
    },
    {
      "cell_type": "code",
      "execution_count": null,
      "metadata": {
        "colab": {
          "base_uri": "https://localhost:8080/"
        },
        "id": "70-oix1GijLg",
        "outputId": "c6bd505b-57eb-43fa-a18b-5d5b50ba5619"
      },
      "outputs": [
        {
          "output_type": "stream",
          "name": "stdout",
          "text": [
            "RandomForestClassifier 0.8845\n",
            "ExtraTreesClassifier 0.8844\n",
            "SVC 0.8928\n"
          ]
        }
      ],
      "source": [
        "for clf in (rnd_clf,extra_trees_clf,svm_clf):\n",
        "    clf.fit(X_train,y_train)\n",
        "    y_pred=clf.predict(X_val)\n",
        "    print(clf.__class__.__name__,accuracy_score(y_val,y_pred))"
      ]
    },
    {
      "cell_type": "code",
      "execution_count": null,
      "metadata": {
        "colab": {
          "base_uri": "https://localhost:8080/"
        },
        "id": "0qaPPnRHijLg",
        "outputId": "30b90d3b-4b0b-4b33-b7fb-d1c1d5fc458f"
      },
      "outputs": [
        {
          "output_type": "execute_result",
          "data": {
            "text/plain": [
              "VotingClassifier(estimators=[('rf', RandomForestClassifier(random_state=42)),\n",
              "                             ('et', ExtraTreesClassifier(random_state=42)),\n",
              "                             ('svc', SVC(probability=True, random_state=42))],\n",
              "                 voting='soft')"
            ]
          },
          "metadata": {},
          "execution_count": 26
        }
      ],
      "source": [
        "voting_clf.fit(X_val,y_val)"
      ]
    },
    {
      "cell_type": "code",
      "execution_count": null,
      "metadata": {
        "colab": {
          "base_uri": "https://localhost:8080/"
        },
        "id": "GWPKlMo-ijLg",
        "outputId": "de3a05b9-f037-4052-fa13-1f2ee7002c1a"
      },
      "outputs": [
        {
          "output_type": "execute_result",
          "data": {
            "text/plain": [
              "1.0"
            ]
          },
          "metadata": {},
          "execution_count": 27
        }
      ],
      "source": [
        "voting_clf.score(X_val, y_val)"
      ]
    },
    {
      "cell_type": "code",
      "execution_count": null,
      "metadata": {
        "colab": {
          "base_uri": "https://localhost:8080/"
        },
        "id": "mpoMLm2vijLg",
        "outputId": "7baeb417-1ca1-46da-f3c3-09af9e235b64"
      },
      "outputs": [
        {
          "output_type": "stream",
          "name": "stdout",
          "text": [
            "RandomForestClassifier 0.8843\n",
            "ExtraTreesClassifier 0.8801\n",
            "SVC 0.8853\n"
          ]
        }
      ],
      "source": [
        "#在測試集上的嘗試\n",
        "for clf in(rnd_clf,extra_trees_clf,svm_clf):\n",
        "    y_pred=clf.predict(X_test)\n",
        "    print(clf.__class__.__name__,accuracy_score(y_test,y_pred))"
      ]
    },
    {
      "cell_type": "code",
      "execution_count": null,
      "metadata": {
        "colab": {
          "base_uri": "https://localhost:8080/"
        },
        "id": "PjpJ9YapijLh",
        "outputId": "ea476167-393a-4b22-9f11-41e723149ca1"
      },
      "outputs": [
        {
          "output_type": "execute_result",
          "data": {
            "text/plain": [
              "VotingClassifier(estimators=[('rf', RandomForestClassifier(random_state=42)),\n",
              "                             ('et', ExtraTreesClassifier(random_state=42)),\n",
              "                             ('svc', SVC(probability=True, random_state=42))],\n",
              "                 voting='soft')"
            ]
          },
          "metadata": {},
          "execution_count": 29
        }
      ],
      "source": [
        "voting_clf.fit(X_test,y_test)"
      ]
    },
    {
      "cell_type": "code",
      "execution_count": null,
      "metadata": {
        "colab": {
          "base_uri": "https://localhost:8080/"
        },
        "id": "2xcssGVSijLh",
        "outputId": "330c557e-9815-455f-a053-6261dbe18ee9"
      },
      "outputs": [
        {
          "output_type": "execute_result",
          "data": {
            "text/plain": [
              "1.0"
            ]
          },
          "metadata": {},
          "execution_count": 30
        }
      ],
      "source": [
        "voting_clf.score(X_test,y_test)"
      ]
    }
  ],
  "metadata": {
    "kernelspec": {
      "display_name": "Python 3.9.12 ('base')",
      "language": "python",
      "name": "python3"
    },
    "language_info": {
      "codemirror_mode": {
        "name": "ipython",
        "version": 3
      },
      "file_extension": ".py",
      "mimetype": "text/x-python",
      "name": "python",
      "nbconvert_exporter": "python",
      "pygments_lexer": "ipython3",
      "version": "3.9.12"
    },
    "orig_nbformat": 4,
    "vscode": {
      "interpreter": {
        "hash": "cf2ce59cd14ccf06ee242bff7c016a1e75b61f8bcefb1a770f775dab1f551b87"
      }
    },
    "colab": {
      "provenance": []
    }
  },
  "nbformat": 4,
  "nbformat_minor": 0
}