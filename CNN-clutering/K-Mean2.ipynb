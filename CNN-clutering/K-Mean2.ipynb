{
 "cells": [
  {
   "cell_type": "code",
   "execution_count": 1,
   "metadata": {},
   "outputs": [],
   "source": [
    "import os\n",
    "import zipfile\n",
    "import glob\n",
    "import numpy as np\n",
    "import pandas as pd\n",
    "import matplotlib.pyplot as plt\n",
    "import seaborn as sns\n",
    "import matplotlib.cm as cm\n",
    "import keras\n",
    "import cv2\n",
    "%matplotlib inline\n",
    "#import K-Means\n",
    "from sklearn.cluster import KMeans\n",
    "# important metrics\n",
    "from sklearn.metrics import accuracy_score"
   ]
  },
  {
   "cell_type": "code",
   "execution_count": 2,
   "metadata": {},
   "outputs": [],
   "source": [
    "data = []\n",
    "label = []\n",
    "path = \"./archive/train/train1/\"\n",
    "c = 0\n",
    "d = 0\n",
    "IMG_SIZE = 32\n",
    "for file in os.listdir(path):\n",
    "    img=cv2.imread(path+file)\n",
    "    img=cv2.resize(img,(IMG_SIZE,IMG_SIZE))\n",
    "    img=img.astype('float32')\n",
    "    if file[:3]=='cat':\n",
    "        if c==4: continue\n",
    "        c+=1\n",
    "        label.append(\"cat\")\n",
    "    else:\n",
    "        if d==4: continue\n",
    "        d+=1\n",
    "        label.append(\"dog\")\n",
    "    data.append(img)\n",
    "data = np.array(data)"
   ]
  },
  {
   "cell_type": "code",
   "execution_count": 3,
   "metadata": {},
   "outputs": [],
   "source": [
    "data_label = []\n",
    "for i in label:\n",
    "    if i==\"cat\": data_label.append(0)\n",
    "    else: data_label.append(1)\n",
    "data_label = np.array(data_label)"
   ]
  },
  {
   "cell_type": "code",
   "execution_count": 4,
   "metadata": {},
   "outputs": [],
   "source": [
    "data = data/255.0\n",
    "reshaped_data = data.reshape(len(data),-1)"
   ]
  },
  {
   "cell_type": "code",
   "execution_count": 5,
   "metadata": {},
   "outputs": [],
   "source": [
    "reshaped_data.shape = (8,3072)"
   ]
  },
  {
   "cell_type": "code",
   "execution_count": 6,
   "metadata": {},
   "outputs": [
    {
     "data": {
      "text/plain": [
       "(2, 3072)"
      ]
     },
     "execution_count": 6,
     "metadata": {},
     "output_type": "execute_result"
    }
   ],
   "source": [
    "kmeans = KMeans(n_clusters=2, random_state=0)\n",
    "clusters = kmeans.fit_predict(reshaped_data)\n",
    "kmeans.cluster_centers_.shape"
   ]
  },
  {
   "cell_type": "code",
   "execution_count": 7,
   "metadata": {},
   "outputs": [
    {
     "data": {
      "text/plain": [
       "array([1, 0, 0, 1, 0, 1, 0, 1])"
      ]
     },
     "execution_count": 7,
     "metadata": {},
     "output_type": "execute_result"
    }
   ],
   "source": [
    "clusters"
   ]
  },
  {
   "cell_type": "code",
   "execution_count": 8,
   "metadata": {},
   "outputs": [],
   "source": [
    "# 因為K-Means不知道我們的標籤，所以必須根據我們的用法更改K-Means的標籤\n",
    "\n",
    "# mapping labels from cluster to original labels\n",
    "def get_reference_dict(clusters,data_label):\n",
    "    reference_label = {}\n",
    "    # For loop to run through each label of cluster label\n",
    "    for i in range(len(np.unique(clusters))):\n",
    "        index = np.where(clusters == i,1,0)\n",
    "        num = np.bincount(data_label[index==1]).argmax()\n",
    "        reference_label[i] = num\n",
    "    return reference_label\n",
    "\n",
    "# Mapping predictions to original labels\n",
    "def get_labels(clusters,refernce_labels):\n",
    "    temp_labels = np.random.rand(len(clusters))\n",
    "    for i in range(len(clusters)):\n",
    "        temp_labels[i] = refernce_labels[clusters[i]]\n",
    "    return temp_labels"
   ]
  },
  {
   "cell_type": "code",
   "execution_count": 9,
   "metadata": {},
   "outputs": [],
   "source": [
    "reference_labels = get_reference_dict(clusters,data_label)\n",
    "predicted_labels = get_labels(clusters,reference_labels)"
   ]
  },
  {
   "cell_type": "code",
   "execution_count": 10,
   "metadata": {},
   "outputs": [
    {
     "name": "stdout",
     "output_type": "stream",
     "text": [
      "準確度: 0.5\n"
     ]
    }
   ],
   "source": [
    "# Accuracy Score for right predictions\n",
    "print(\"準確度:\",accuracy_score(predicted_labels,data_label))"
   ]
  },
  {
   "cell_type": "code",
   "execution_count": 11,
   "metadata": {},
   "outputs": [],
   "source": [
    "def purity_score(y_true,y_pred):\n",
    "    y_voted_labels = np.zeros(y_true.shape)\n",
    "\n",
    "    labels = np.unique(y_true)\n",
    "    ordered_labels = np.arange(labels.shape[0])\n",
    "    for k in range(labels.shape[0]):\n",
    "        y_true[y_true==labels[k]] = ordered_labels[k]\n",
    "\n",
    "    labels = np.unique(y_true)\n",
    "\n",
    "    bins = np.concatenate((labels, [np.max(labels)+1]), axis=0)\n",
    "\n",
    "    for cluster in np.unique(y_pred):\n",
    "        hist, _ = np.histogram(y_true[y_pred==cluster], bins=bins)\n",
    "\n",
    "        winner = np.argmax(hist)\n",
    "        y_voted_labels[y_pred==cluster] = winner\n",
    "\n",
    "    return accuracy_score(y_true, y_voted_labels)"
   ]
  },
  {
   "cell_type": "code",
   "execution_count": 12,
   "metadata": {},
   "outputs": [
    {
     "name": "stdout",
     "output_type": "stream",
     "text": [
      "純度為: 0.5\n"
     ]
    }
   ],
   "source": [
    "print(\"純度為:\",purity_score(data_label,predicted_labels))"
   ]
  }
 ],
 "metadata": {
  "kernelspec": {
   "display_name": "Python 3.9.12 ('base')",
   "language": "python",
   "name": "python3"
  },
  "language_info": {
   "codemirror_mode": {
    "name": "ipython",
    "version": 3
   },
   "file_extension": ".py",
   "mimetype": "text/x-python",
   "name": "python",
   "nbconvert_exporter": "python",
   "pygments_lexer": "ipython3",
   "version": "3.9.12"
  },
  "orig_nbformat": 4,
  "vscode": {
   "interpreter": {
    "hash": "cf2ce59cd14ccf06ee242bff7c016a1e75b61f8bcefb1a770f775dab1f551b87"
   }
  }
 },
 "nbformat": 4,
 "nbformat_minor": 2
}
