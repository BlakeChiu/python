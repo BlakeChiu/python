{
 "cells": [
  {
   "cell_type": "code",
   "execution_count": 1,
   "metadata": {},
   "outputs": [],
   "source": [
    "import tensorflow as tf\n",
    "import numpy as np\n",
    "import cv2\n",
    "import os\n",
    "from tensorflow.keras.applications.vgg19 import preprocess_input\n",
    "from sklearn.metrics import accuracy_score\n",
    "from tensorflow.keras.preprocessing import image\n",
    "from sklearn.cluster import KMeans\n",
    "from sklearn import metrics"
   ]
  },
  {
   "cell_type": "code",
   "execution_count": 2,
   "metadata": {},
   "outputs": [],
   "source": [
    "data = []\n",
    "label = []\n",
    "path = \"./archive/train/train1/\"\n",
    "c = 0\n",
    "d = 0\n",
    "IMG_SIZE = 32\n",
    "for file in os.listdir(path):\n",
    "    img=cv2.imread(path+file)\n",
    "    img=cv2.resize(img,(IMG_SIZE,IMG_SIZE))\n",
    "    img=img.astype('float32')\n",
    "    if file[:3]=='cat':\n",
    "        if c==4: continue\n",
    "        c+=1\n",
    "        label.append(\"cat\")\n",
    "    else:\n",
    "        if d==4: continue\n",
    "        d+=1\n",
    "        label.append(\"dog\")\n",
    "    data.append(img)\n",
    "data = np.array(data)"
   ]
  },
  {
   "cell_type": "code",
   "execution_count": 3,
   "metadata": {},
   "outputs": [],
   "source": [
    "data_label = []\n",
    "for i in label:\n",
    "    if i==\"cat\": data_label.append(0)\n",
    "    else: data_label.append(1)\n",
    "data_label = np.array(data_label)"
   ]
  },
  {
   "cell_type": "code",
   "execution_count": 4,
   "metadata": {},
   "outputs": [
    {
     "data": {
      "text/plain": [
       "array([0, 0, 0, 0, 1, 1, 1, 1])"
      ]
     },
     "execution_count": 4,
     "metadata": {},
     "output_type": "execute_result"
    }
   ],
   "source": [
    "data_label"
   ]
  },
  {
   "cell_type": "code",
   "execution_count": 5,
   "metadata": {},
   "outputs": [],
   "source": [
    "data = data/255.0\n",
    "reshaped_data = data.reshape(len(data),-1)"
   ]
  },
  {
   "cell_type": "code",
   "execution_count": 6,
   "metadata": {},
   "outputs": [],
   "source": [
    "reshaped_data.shape = (8,3072)"
   ]
  },
  {
   "cell_type": "code",
   "execution_count": 7,
   "metadata": {},
   "outputs": [],
   "source": [
    "model = tf.keras.applications.vgg19.VGG19(weights='imagenet', include_top=False, input_shape=(IMG_SIZE, IMG_SIZE,3))"
   ]
  },
  {
   "cell_type": "code",
   "execution_count": 8,
   "metadata": {},
   "outputs": [],
   "source": [
    "# 從vgg19提取特徵\n",
    "def extract_vector(data_holder):\n",
    "    resnet_feature_list = []\n",
    "\n",
    "    for im in data_holder:\n",
    "        im = image.img_to_array(im) \n",
    "        img = preprocess_input(np.expand_dims(im.copy(), axis=0))\n",
    "        resnet_feature = model.predict(img)\n",
    "        resnet_feature_np = np.array(resnet_feature)\n",
    "        resnet_feature_list.append(resnet_feature_np.flatten())\n",
    "\n",
    "    return np.array(resnet_feature_list)"
   ]
  },
  {
   "cell_type": "code",
   "execution_count": 9,
   "metadata": {},
   "outputs": [
    {
     "name": "stdout",
     "output_type": "stream",
     "text": [
      "1/1 [==============================] - 0s 210ms/step\n",
      "1/1 [==============================] - 0s 31ms/step\n",
      "1/1 [==============================] - 0s 34ms/step\n",
      "1/1 [==============================] - 0s 27ms/step\n",
      "1/1 [==============================] - 0s 28ms/step\n",
      "1/1 [==============================] - 0s 28ms/step\n",
      "1/1 [==============================] - 0s 29ms/step\n",
      "1/1 [==============================] - 0s 55ms/step\n"
     ]
    },
    {
     "name": "stderr",
     "output_type": "stream",
     "text": [
      "c:\\Users\\gopl0\\anaconda3\\lib\\site-packages\\sklearn\\cluster\\_kmeans.py:1334: UserWarning: KMeans is known to have a memory leak on Windows with MKL, when there are less chunks than available threads. You can avoid it by setting the environment variable OMP_NUM_THREADS=1.\n",
      "  warnings.warn(\n"
     ]
    }
   ],
   "source": [
    "# 提取向量並進行KMeans\n",
    "array = extract_vector(data)\n",
    "kmeans = KMeans(n_clusters=2, random_state=8)\n",
    "clusters = kmeans.fit_predict(array)"
   ]
  },
  {
   "cell_type": "code",
   "execution_count": 10,
   "metadata": {},
   "outputs": [
    {
     "data": {
      "text/plain": [
       "array([1, 0, 0, 0, 0, 1, 1, 1])"
      ]
     },
     "execution_count": 10,
     "metadata": {},
     "output_type": "execute_result"
    }
   ],
   "source": [
    "clusters"
   ]
  },
  {
   "cell_type": "code",
   "execution_count": 11,
   "metadata": {},
   "outputs": [],
   "source": [
    "# 因為K-Means不知道我們的標籤，所以必須根據我們的用法更改K-Means的標籤\n",
    "\n",
    "# mapping labels from cluster to original labels\n",
    "def get_reference_dict(clusters,data_label):\n",
    "    reference_label = {}\n",
    "    # For loop to run through each label of cluster label\n",
    "    for i in range(len(np.unique(clusters))):\n",
    "        index = np.where(clusters == i,1,0)\n",
    "        num = np.bincount(data_label[index==1]).argmax()\n",
    "        reference_label[i] = num\n",
    "    return reference_label\n",
    "\n",
    "# Mapping predictions to original labels\n",
    "def get_labels(clusters,refernce_labels):\n",
    "    temp_labels = np.random.rand(len(clusters))\n",
    "    for i in range(len(clusters)):\n",
    "        temp_labels[i] = refernce_labels[clusters[i]]\n",
    "    return temp_labels"
   ]
  },
  {
   "cell_type": "code",
   "execution_count": 12,
   "metadata": {},
   "outputs": [],
   "source": [
    "reference_labels = get_reference_dict(clusters,data_label)\n",
    "predicted_labels = get_labels(clusters,reference_labels)"
   ]
  },
  {
   "cell_type": "markdown",
   "metadata": {},
   "source": [
    "## 外部評估指標"
   ]
  },
  {
   "cell_type": "code",
   "execution_count": 13,
   "metadata": {},
   "outputs": [
    {
     "name": "stdout",
     "output_type": "stream",
     "text": [
      "準確度: 0.75\n"
     ]
    }
   ],
   "source": [
    "print(\"準確度:\",accuracy_score(data_label,predicted_labels))"
   ]
  },
  {
   "cell_type": "code",
   "execution_count": 14,
   "metadata": {},
   "outputs": [],
   "source": [
    "def purity_score(y_true,y_pred):\n",
    "    y_voted_labels = np.zeros(y_true.shape)\n",
    "\n",
    "    labels = np.unique(y_true)\n",
    "    ordered_labels = np.arange(labels.shape[0])\n",
    "    for k in range(labels.shape[0]):\n",
    "        y_true[y_true==labels[k]] = ordered_labels[k]\n",
    "\n",
    "    labels = np.unique(y_true)\n",
    "\n",
    "    bins = np.concatenate((labels, [np.max(labels)+1]), axis=0)\n",
    "\n",
    "    for cluster in np.unique(y_pred):\n",
    "        hist, _ = np.histogram(y_true[y_pred==cluster], bins=bins)\n",
    "\n",
    "        winner = np.argmax(hist)\n",
    "        y_voted_labels[y_pred==cluster] = winner\n",
    "\n",
    "    return accuracy_score(y_true, y_voted_labels)"
   ]
  },
  {
   "cell_type": "code",
   "execution_count": 15,
   "metadata": {},
   "outputs": [
    {
     "name": "stdout",
     "output_type": "stream",
     "text": [
      "純度為: 0.75\n"
     ]
    }
   ],
   "source": [
    "print(\"純度為:\",purity_score(data_label,predicted_labels))"
   ]
  },
  {
   "cell_type": "code",
   "execution_count": 16,
   "metadata": {},
   "outputs": [
    {
     "name": "stdout",
     "output_type": "stream",
     "text": [
      "RI為: 0.5714285714285714\n"
     ]
    }
   ],
   "source": [
    "print(\"RI為:\",metrics.rand_score(data_label,predicted_labels))"
   ]
  },
  {
   "cell_type": "code",
   "execution_count": 17,
   "metadata": {},
   "outputs": [
    {
     "name": "stdout",
     "output_type": "stream",
     "text": [
      "ARI為: 0.125\n"
     ]
    }
   ],
   "source": [
    "print(\"ARI為:\",metrics.adjusted_rand_score(data_label,predicted_labels))"
   ]
  },
  {
   "cell_type": "code",
   "execution_count": 18,
   "metadata": {},
   "outputs": [
    {
     "name": "stdout",
     "output_type": "stream",
     "text": [
      "FMI為: 0.5000000000000001\n"
     ]
    }
   ],
   "source": [
    "print(\"FMI為:\",metrics.fowlkes_mallows_score(data_label,predicted_labels))"
   ]
  },
  {
   "cell_type": "code",
   "execution_count": 19,
   "metadata": {},
   "outputs": [
    {
     "name": "stdout",
     "output_type": "stream",
     "text": [
      "同質性，完整性，V-measure為: (0.18872187554086706, 0.18872187554086706, 0.18872187554086706)\n"
     ]
    }
   ],
   "source": [
    "print(\"同質性，完整性，V-measure為:\",metrics.homogeneity_completeness_v_measure(data_label,predicted_labels))"
   ]
  },
  {
   "cell_type": "markdown",
   "metadata": {},
   "source": [
    "## 內部評估指標"
   ]
  },
  {
   "cell_type": "code",
   "execution_count": 20,
   "metadata": {},
   "outputs": [
    {
     "name": "stdout",
     "output_type": "stream",
     "text": [
      "CH為: 7.111333475582634\n"
     ]
    }
   ],
   "source": [
    "print(\"CH為:\",metrics.calinski_harabasz_score(array, clusters))"
   ]
  },
  {
   "cell_type": "code",
   "execution_count": 21,
   "metadata": {},
   "outputs": [
    {
     "name": "stdout",
     "output_type": "stream",
     "text": [
      "輪廓分數為: 0.36468643\n"
     ]
    }
   ],
   "source": [
    "print(\"輪廓分數為:\",metrics.silhouette_score(array,clusters,metric='euclidean'))"
   ]
  }
 ],
 "metadata": {
  "kernelspec": {
   "display_name": "tf-gpu",
   "language": "python",
   "name": "python3"
  },
  "language_info": {
   "codemirror_mode": {
    "name": "ipython",
    "version": 3
   },
   "file_extension": ".py",
   "mimetype": "text/x-python",
   "name": "python",
   "nbconvert_exporter": "python",
   "pygments_lexer": "ipython3",
   "version": "3.10.8"
  },
  "orig_nbformat": 4,
  "vscode": {
   "interpreter": {
    "hash": "b03d9c3c2741cc8b0af16f0d7335ecd1635fd3252994a66b5397f7f6a3854bcd"
   }
  }
 },
 "nbformat": 4,
 "nbformat_minor": 2
}
