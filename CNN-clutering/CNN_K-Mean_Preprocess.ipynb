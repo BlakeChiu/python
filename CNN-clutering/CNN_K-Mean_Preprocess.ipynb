{
 "cells": [
  {
   "cell_type": "code",
   "execution_count": 1,
   "metadata": {},
   "outputs": [],
   "source": [
    "import numpy as np\n",
    "from PIL import Image\n",
    "from tqdm import tqdm\n",
    "from glob import glob"
   ]
  },
  {
   "cell_type": "code",
   "execution_count": 2,
   "metadata": {},
   "outputs": [
    {
     "name": "stderr",
     "output_type": "stream",
     "text": [
      " 25%|██▍       | 999/4000 [00:22<01:07, 44.19it/s] \n"
     ]
    }
   ],
   "source": [
    "# cat\n",
    "\n",
    "count = 0\n",
    "cat_array = None\n",
    "for file in tqdm(glob(\"./input/cat-and-dog/training_set/cats/*\")):\n",
    "    if file[-3:] == \"jpg\":\n",
    "        img = Image.open(file)\n",
    "        img = img.resize((200, 200))\n",
    "        imgarr = np.array(img)\n",
    "        imgarr = imgarr.reshape(1, 200, 200, 3)\n",
    "\n",
    "        if cat_array is None:\n",
    "            cat_array = imgarr\n",
    "        else:\n",
    "            cat_array = np.concatenate((cat_array, imgarr))\n",
    "\n",
    "        count += 1\n",
    "        if count == 1000:\n",
    "            break"
   ]
  },
  {
   "cell_type": "code",
   "execution_count": 3,
   "metadata": {},
   "outputs": [
    {
     "name": "stderr",
     "output_type": "stream",
     "text": [
      " 25%|██▍       | 999/4005 [00:22<01:07, 44.69it/s] \n"
     ]
    }
   ],
   "source": [
    "# dog\n",
    "\n",
    "count = 0\n",
    "dog_array = None\n",
    "for file in tqdm(glob(\"./input/cat-and-dog/training_set/dogs/*\")):\n",
    "    if file[-3:] == \"jpg\":\n",
    "        img = Image.open(file)\n",
    "        img = img.resize((200, 200))\n",
    "        imgarr = np.array(img) \n",
    "        imgarr = imgarr.reshape(1, 200, 200, 3)\n",
    "\n",
    "        if dog_array is None:\n",
    "            dog_array = imgarr\n",
    "        else:\n",
    "            dog_array = np.concatenate((dog_array, imgarr))\n",
    "\n",
    "        count += 1\n",
    "        if count == 1000:\n",
    "            break"
   ]
  },
  {
   "cell_type": "code",
   "execution_count": 4,
   "metadata": {},
   "outputs": [],
   "source": [
    "np.save(\"data/cats_array\", cat_array)\n",
    "np.save(\"data/dogs_array\", dog_array)"
   ]
  }
 ],
 "metadata": {
  "kernelspec": {
   "display_name": "Python 3.9.12 ('base')",
   "language": "python",
   "name": "python3"
  },
  "language_info": {
   "codemirror_mode": {
    "name": "ipython",
    "version": 3
   },
   "file_extension": ".py",
   "mimetype": "text/x-python",
   "name": "python",
   "nbconvert_exporter": "python",
   "pygments_lexer": "ipython3",
   "version": "3.9.12"
  },
  "orig_nbformat": 4,
  "vscode": {
   "interpreter": {
    "hash": "cf2ce59cd14ccf06ee242bff7c016a1e75b61f8bcefb1a770f775dab1f551b87"
   }
  }
 },
 "nbformat": 4,
 "nbformat_minor": 2
}
