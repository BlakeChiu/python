{
 "cells": [
  {
   "cell_type": "markdown",
   "metadata": {},
   "source": [
    "## DVI"
   ]
  },
  {
   "cell_type": "code",
   "execution_count": 1,
   "metadata": {},
   "outputs": [
    {
     "ename": "AttributeError",
     "evalue": "'DataFrame' object has no attribute 'Species'",
     "output_type": "error",
     "traceback": [
      "\u001b[1;31m---------------------------------------------------------------------------\u001b[0m",
      "\u001b[1;31mAttributeError\u001b[0m                            Traceback (most recent call last)",
      "\u001b[1;32md:\\python\\Clustering-performance-evaluation\\extra-index.ipynb Cell 2\u001b[0m in \u001b[0;36m<cell line: 23>\u001b[1;34m()\u001b[0m\n\u001b[0;32m     <a href='vscode-notebook-cell:/d%3A/python/Clustering-performance-evaluation/extra-index.ipynb#X10sZmlsZQ%3D%3D?line=19'>20</a>\u001b[0m prediction \u001b[39m=\u001b[39m pd\u001b[39m.\u001b[39mconcat([df, pred], axis \u001b[39m=\u001b[39m \u001b[39m1\u001b[39m)\n\u001b[0;32m     <a href='vscode-notebook-cell:/d%3A/python/Clustering-performance-evaluation/extra-index.ipynb#X10sZmlsZQ%3D%3D?line=21'>22</a>\u001b[0m \u001b[39m# We store the clusters\u001b[39;00m\n\u001b[1;32m---> <a href='vscode-notebook-cell:/d%3A/python/Clustering-performance-evaluation/extra-index.ipynb#X10sZmlsZQ%3D%3D?line=22'>23</a>\u001b[0m clus0 \u001b[39m=\u001b[39m prediction\u001b[39m.\u001b[39mloc[prediction\u001b[39m.\u001b[39;49mSpecies \u001b[39m==\u001b[39m \u001b[39m0\u001b[39m]\n\u001b[0;32m     <a href='vscode-notebook-cell:/d%3A/python/Clustering-performance-evaluation/extra-index.ipynb#X10sZmlsZQ%3D%3D?line=23'>24</a>\u001b[0m clus1 \u001b[39m=\u001b[39m prediction\u001b[39m.\u001b[39mloc[prediction\u001b[39m.\u001b[39mSpecies \u001b[39m==\u001b[39m \u001b[39m1\u001b[39m]\n\u001b[0;32m     <a href='vscode-notebook-cell:/d%3A/python/Clustering-performance-evaluation/extra-index.ipynb#X10sZmlsZQ%3D%3D?line=24'>25</a>\u001b[0m clus2 \u001b[39m=\u001b[39m prediction\u001b[39m.\u001b[39mloc[prediction\u001b[39m.\u001b[39mSpecies \u001b[39m==\u001b[39m \u001b[39m2\u001b[39m]\n",
      "File \u001b[1;32mc:\\Users\\gopl0\\anaconda3\\lib\\site-packages\\pandas\\core\\generic.py:5575\u001b[0m, in \u001b[0;36mNDFrame.__getattr__\u001b[1;34m(self, name)\u001b[0m\n\u001b[0;32m   5568\u001b[0m \u001b[39mif\u001b[39;00m (\n\u001b[0;32m   5569\u001b[0m     name \u001b[39mnot\u001b[39;00m \u001b[39min\u001b[39;00m \u001b[39mself\u001b[39m\u001b[39m.\u001b[39m_internal_names_set\n\u001b[0;32m   5570\u001b[0m     \u001b[39mand\u001b[39;00m name \u001b[39mnot\u001b[39;00m \u001b[39min\u001b[39;00m \u001b[39mself\u001b[39m\u001b[39m.\u001b[39m_metadata\n\u001b[0;32m   5571\u001b[0m     \u001b[39mand\u001b[39;00m name \u001b[39mnot\u001b[39;00m \u001b[39min\u001b[39;00m \u001b[39mself\u001b[39m\u001b[39m.\u001b[39m_accessors\n\u001b[0;32m   5572\u001b[0m     \u001b[39mand\u001b[39;00m \u001b[39mself\u001b[39m\u001b[39m.\u001b[39m_info_axis\u001b[39m.\u001b[39m_can_hold_identifiers_and_holds_name(name)\n\u001b[0;32m   5573\u001b[0m ):\n\u001b[0;32m   5574\u001b[0m     \u001b[39mreturn\u001b[39;00m \u001b[39mself\u001b[39m[name]\n\u001b[1;32m-> 5575\u001b[0m \u001b[39mreturn\u001b[39;00m \u001b[39mobject\u001b[39;49m\u001b[39m.\u001b[39;49m\u001b[39m__getattribute__\u001b[39;49m(\u001b[39mself\u001b[39;49m, name)\n",
      "\u001b[1;31mAttributeError\u001b[0m: 'DataFrame' object has no attribute 'Species'"
     ]
    }
   ],
   "source": [
    "import pandas as pd\n",
    "from sklearn import datasets\n",
    "from jqmcvi import base\n",
    "  \n",
    "# loading the dataset\n",
    "X = datasets.load_iris()\n",
    "df = pd.DataFrame(X.data)\n",
    "  \n",
    "# K-Means\n",
    "from sklearn import cluster\n",
    "k_means = cluster.KMeans(n_clusters=3)\n",
    "k_means.fit(df) #K-means training\n",
    "y_pred = k_means.predict(df)\n",
    "  \n",
    "# We store the K-means results in a dataframe\n",
    "pred = pd.DataFrame(y_pred)\n",
    "pred.columns = ['Type']\n",
    "  \n",
    "# we merge this dataframe with df\n",
    "prediction = pd.concat([df, pred], axis = 1)\n",
    "  \n",
    "# We store the clusters\n",
    "clus0 = prediction.loc[prediction.Species == 0]\n",
    "clus1 = prediction.loc[prediction.Species == 1]\n",
    "clus2 = prediction.loc[prediction.Species == 2]\n",
    "cluster_list = [clus0.values, clus1.values, clus2.values]\n",
    "  \n",
    "print(base.dunn(cluster_list))"
   ]
  }
 ],
 "metadata": {
  "kernelspec": {
   "display_name": "Python 3.9.12 ('base')",
   "language": "python",
   "name": "python3"
  },
  "language_info": {
   "codemirror_mode": {
    "name": "ipython",
    "version": 3
   },
   "file_extension": ".py",
   "mimetype": "text/x-python",
   "name": "python",
   "nbconvert_exporter": "python",
   "pygments_lexer": "ipython3",
   "version": "3.9.12"
  },
  "orig_nbformat": 4,
  "vscode": {
   "interpreter": {
    "hash": "cf2ce59cd14ccf06ee242bff7c016a1e75b61f8bcefb1a770f775dab1f551b87"
   }
  }
 },
 "nbformat": 4,
 "nbformat_minor": 2
}
