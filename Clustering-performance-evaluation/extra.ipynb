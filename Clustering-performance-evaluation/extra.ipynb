{
 "cells": [
  {
   "cell_type": "markdown",
   "metadata": {},
   "source": [
    "# 用iris來當範例，可以看到很多算法labels的細節，順便以輪廓係數為範例"
   ]
  },
  {
   "cell_type": "code",
   "execution_count": 1,
   "metadata": {},
   "outputs": [],
   "source": [
    "from sklearn import metrics\n",
    "from sklearn import datasets\n",
    "X, y = datasets.load_iris(return_X_y=True) "
   ]
  },
  {
   "cell_type": "code",
   "execution_count": 2,
   "metadata": {},
   "outputs": [
    {
     "data": {
      "text/plain": [
       "0.5528190123564095"
      ]
     },
     "execution_count": 2,
     "metadata": {},
     "output_type": "execute_result"
    }
   ],
   "source": [
    "from sklearn.cluster import KMeans #KMeans分群算法\n",
    "KMeans_model=KMeans(n_clusters=3,random_state=1).fit(X) #fit資料X後會產生labels\n",
    "KMeans_labels=KMeans_model.labels_ #分群後的labels存進前面的變數\n",
    "metrics.silhouette_score(X,KMeans_labels,metric='euclidean')"
   ]
  },
  {
   "cell_type": "code",
   "execution_count": 3,
   "metadata": {},
   "outputs": [
    {
     "data": {
      "text/plain": [
       "0.5543236611296419"
      ]
     },
     "execution_count": 3,
     "metadata": {},
     "output_type": "execute_result"
    }
   ],
   "source": [
    "from sklearn.cluster import AgglomerativeClustering #層次分群算法\n",
    "Agglomerative_model=AgglomerativeClustering(n_clusters=3,affinity='euclidean',linkage='ward').fit(X) #fit資料X後會產生labels\n",
    "Agglomerative_labels=Agglomerative_model.labels_ #分群後的labels存進前面的變數\n",
    "metrics.silhouette_score(X,Agglomerative_labels,metric='euclidean')"
   ]
  },
  {
   "cell_type": "code",
   "execution_count": 4,
   "metadata": {},
   "outputs": [
    {
     "data": {
      "text/plain": [
       "0.6867350732769777"
      ]
     },
     "execution_count": 4,
     "metadata": {},
     "output_type": "execute_result"
    }
   ],
   "source": [
    "from sklearn.cluster import DBSCAN #DBSCAN分群算法 順便一提的是其實我有看到有人提到不要再用Kmean了，因為上手難度高，用這較好;這也是我除了KMean想用的\n",
    "DBSCAN_model=DBSCAN(eps=1, min_samples=3).fit(X) #fit資料X後會產生labels\n",
    "DBSCAN_labels=DBSCAN_model.labels_ #分群後的labels存進前面的變數\n",
    "metrics.silhouette_score(X,DBSCAN_labels,metric='euclidean')"
   ]
  },
  {
   "cell_type": "code",
   "execution_count": 5,
   "metadata": {},
   "outputs": [
    {
     "data": {
      "text/plain": [
       "0.6867350732769777"
      ]
     },
     "execution_count": 5,
     "metadata": {},
     "output_type": "execute_result"
    }
   ],
   "source": [
    "from sklearn.cluster import OPTICS #OPTICS分群算法;放在這原因是因為他算是DBSCAN推廣衍生\n",
    "OPTICS_model=OPTICS(eps=1, min_samples=15).fit(X) #fit資料X後會產生labels\n",
    "OPTICS_labels=OPTICS_model.labels_ #分群後的labels存進前面的變數\n",
    "metrics.silhouette_score(X,OPTICS_labels,metric='euclidean')"
   ]
  },
  {
   "cell_type": "code",
   "execution_count": 6,
   "metadata": {},
   "outputs": [
    {
     "data": {
      "text/plain": [
       "0.5553062646081594"
      ]
     },
     "execution_count": 6,
     "metadata": {},
     "output_type": "execute_result"
    }
   ],
   "source": [
    "from sklearn.cluster import SpectralClustering #譜分群算法\n",
    "Spectral_model=SpectralClustering(n_clusters=3,affinity='rbf').fit(X) #fit資料X後會產生labels\n",
    "Spectral_labels=Spectral_model.labels_ #分群後的labels存進前面的變數\n",
    "metrics.silhouette_score(X,Spectral_labels,metric=\"euclidean\")"
   ]
  },
  {
   "cell_type": "code",
   "execution_count": 7,
   "metadata": {},
   "outputs": [
    {
     "data": {
      "text/plain": [
       "0.33381025559765704"
      ]
     },
     "execution_count": 7,
     "metadata": {},
     "output_type": "execute_result"
    }
   ],
   "source": [
    "from sklearn.cluster import AffinityPropagation #親和力傳播分群算法\n",
    "Affinity_model=AffinityPropagation(preference=-3,affinity=\"euclidean\").fit(X) #fit資料X後會產生labels\n",
    "Affinity_labels=Affinity_model.labels_ #分群後的labels存進前面的變數\n",
    "metrics.silhouette_score(X,Affinity_labels,metric=\"euclidean\")"
   ]
  },
  {
   "cell_type": "code",
   "execution_count": 8,
   "metadata": {},
   "outputs": [
    {
     "data": {
      "text/plain": [
       "0.6857881712617192"
      ]
     },
     "execution_count": 8,
     "metadata": {},
     "output_type": "execute_result"
    }
   ],
   "source": [
    "from sklearn.cluster import MeanShift #均值飄移分群算法\n",
    "MeanShift_model=MeanShift(bin_seeding=True).fit(X) #fit資料X後會產生labels\n",
    "MeanShift_labels=MeanShift_model.labels_ #分群後的labels存進前面的變數\n",
    "metrics.silhouette_score(X,MeanShift_labels,metric=\"euclidean\")"
   ]
  },
  {
   "cell_type": "code",
   "execution_count": 9,
   "metadata": {},
   "outputs": [
    {
     "data": {
      "text/plain": [
       "0.5019524848046077"
      ]
     },
     "execution_count": 9,
     "metadata": {},
     "output_type": "execute_result"
    }
   ],
   "source": [
    "from sklearn.cluster import Birch #Birch分群算法\n",
    "Birch_model=Birch(n_clusters=3).fit(X) #fit資料X後會產生labels\n",
    "Birch_labels=Birch_model.labels_ #分群後的labels存進前面的變數\n",
    "metrics.silhouette_score(X,Birch_labels,metric=\"euclidean\")"
   ]
  }
 ],
 "metadata": {
  "kernelspec": {
   "display_name": "Python 3.9.12 ('base')",
   "language": "python",
   "name": "python3"
  },
  "language_info": {
   "codemirror_mode": {
    "name": "ipython",
    "version": 3
   },
   "file_extension": ".py",
   "mimetype": "text/x-python",
   "name": "python",
   "nbconvert_exporter": "python",
   "pygments_lexer": "ipython3",
   "version": "3.9.12"
  },
  "orig_nbformat": 4,
  "vscode": {
   "interpreter": {
    "hash": "cf2ce59cd14ccf06ee242bff7c016a1e75b61f8bcefb1a770f775dab1f551b87"
   }
  }
 },
 "nbformat": 4,
 "nbformat_minor": 2
}
